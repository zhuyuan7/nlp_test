{
  "nbformat": 4,
  "nbformat_minor": 0,
  "metadata": {
    "colab": {
      "name": "케글0407.ipynb",
      "provenance": [],
      "mount_file_id": "1BvwJ8rCsZXgHu8Ks5J3bEuPr-3FeYQBL",
      "authorship_tag": "ABX9TyPdwlBsHtOUZMN5KdY/Ni6G",
      "include_colab_link": true
    },
    "kernelspec": {
      "name": "python3",
      "display_name": "Python 3"
    },
    "language_info": {
      "name": "python"
    },
    "accelerator": "GPU"
  },
  "cells": [
    {
      "cell_type": "markdown",
      "metadata": {
        "id": "view-in-github",
        "colab_type": "text"
      },
      "source": [
        "<a href=\"https://colab.research.google.com/github/zhuyuan7/nlp_test/blob/main/%EC%BC%80%EA%B8%800407.ipynb\" target=\"_parent\"><img src=\"https://colab.research.google.com/assets/colab-badge.svg\" alt=\"Open In Colab\"/></a>"
      ]
    },
    {
      "cell_type": "code",
      "metadata": {
        "colab": {
          "base_uri": "https://localhost:8080/"
        },
        "id": "B36C5kYxlafB",
        "outputId": "22054bf3-dfbe-4135-8e32-5c019f71e8ca"
      },
      "source": [
        "!pip install konlpy\n"
      ],
      "execution_count": 1,
      "outputs": [
        {
          "output_type": "stream",
          "text": [
            "Collecting konlpy\n",
            "\u001b[?25l  Downloading https://files.pythonhosted.org/packages/85/0e/f385566fec837c0b83f216b2da65db9997b35dd675e107752005b7d392b1/konlpy-0.5.2-py2.py3-none-any.whl (19.4MB)\n",
            "\u001b[K     |████████████████████████████████| 19.4MB 60.6MB/s \n",
            "\u001b[?25hCollecting JPype1>=0.7.0\n",
            "\u001b[?25l  Downloading https://files.pythonhosted.org/packages/cd/a5/9781e2ef4ca92d09912c4794642c1653aea7607f473e156cf4d423a881a1/JPype1-1.2.1-cp37-cp37m-manylinux2010_x86_64.whl (457kB)\n",
            "\u001b[K     |████████████████████████████████| 460kB 53.5MB/s \n",
            "\u001b[?25hCollecting beautifulsoup4==4.6.0\n",
            "\u001b[?25l  Downloading https://files.pythonhosted.org/packages/9e/d4/10f46e5cfac773e22707237bfcd51bbffeaf0a576b0a847ec7ab15bd7ace/beautifulsoup4-4.6.0-py3-none-any.whl (86kB)\n",
            "\u001b[K     |████████████████████████████████| 92kB 13.1MB/s \n",
            "\u001b[?25hCollecting colorama\n",
            "  Downloading https://files.pythonhosted.org/packages/44/98/5b86278fbbf250d239ae0ecb724f8572af1c91f4a11edf4d36a206189440/colorama-0.4.4-py2.py3-none-any.whl\n",
            "Requirement already satisfied: lxml>=4.1.0 in /usr/local/lib/python3.7/dist-packages (from konlpy) (4.2.6)\n",
            "Requirement already satisfied: numpy>=1.6 in /usr/local/lib/python3.7/dist-packages (from konlpy) (1.19.5)\n",
            "Requirement already satisfied: tweepy>=3.7.0 in /usr/local/lib/python3.7/dist-packages (from konlpy) (3.10.0)\n",
            "Requirement already satisfied: typing-extensions; python_version < \"3.8\" in /usr/local/lib/python3.7/dist-packages (from JPype1>=0.7.0->konlpy) (3.7.4.3)\n",
            "Requirement already satisfied: requests-oauthlib>=0.7.0 in /usr/local/lib/python3.7/dist-packages (from tweepy>=3.7.0->konlpy) (1.3.0)\n",
            "Requirement already satisfied: requests[socks]>=2.11.1 in /usr/local/lib/python3.7/dist-packages (from tweepy>=3.7.0->konlpy) (2.23.0)\n",
            "Requirement already satisfied: six>=1.10.0 in /usr/local/lib/python3.7/dist-packages (from tweepy>=3.7.0->konlpy) (1.15.0)\n",
            "Requirement already satisfied: oauthlib>=3.0.0 in /usr/local/lib/python3.7/dist-packages (from requests-oauthlib>=0.7.0->tweepy>=3.7.0->konlpy) (3.1.0)\n",
            "Requirement already satisfied: certifi>=2017.4.17 in /usr/local/lib/python3.7/dist-packages (from requests[socks]>=2.11.1->tweepy>=3.7.0->konlpy) (2020.12.5)\n",
            "Requirement already satisfied: chardet<4,>=3.0.2 in /usr/local/lib/python3.7/dist-packages (from requests[socks]>=2.11.1->tweepy>=3.7.0->konlpy) (3.0.4)\n",
            "Requirement already satisfied: urllib3!=1.25.0,!=1.25.1,<1.26,>=1.21.1 in /usr/local/lib/python3.7/dist-packages (from requests[socks]>=2.11.1->tweepy>=3.7.0->konlpy) (1.24.3)\n",
            "Requirement already satisfied: idna<3,>=2.5 in /usr/local/lib/python3.7/dist-packages (from requests[socks]>=2.11.1->tweepy>=3.7.0->konlpy) (2.10)\n",
            "Requirement already satisfied: PySocks!=1.5.7,>=1.5.6; extra == \"socks\" in /usr/local/lib/python3.7/dist-packages (from requests[socks]>=2.11.1->tweepy>=3.7.0->konlpy) (1.7.1)\n",
            "Installing collected packages: JPype1, beautifulsoup4, colorama, konlpy\n",
            "  Found existing installation: beautifulsoup4 4.6.3\n",
            "    Uninstalling beautifulsoup4-4.6.3:\n",
            "      Successfully uninstalled beautifulsoup4-4.6.3\n",
            "Successfully installed JPype1-1.2.1 beautifulsoup4-4.6.0 colorama-0.4.4 konlpy-0.5.2\n"
          ],
          "name": "stdout"
        }
      ]
    },
    {
      "cell_type": "code",
      "metadata": {
        "id": "pVvpz4PGPh3b"
      },
      "source": [
        "import pandas as pd\n",
        "import numpy as np\n",
        "%matplotlib inline\n",
        "import matplotlib.pyplot as plt\n",
        "import seaborn as sns\n",
        "import re\n",
        "import os\n",
        "import json\n",
        "import urllib.request\n",
        "from konlpy.tag import Okt\n",
        "from tensorflow.keras.preprocessing.text import Tokenizer\n",
        "from tensorflow.keras.preprocessing.sequence import pad_sequences\n",
        "from tensorflow.keras.models import Sequential\n",
        "from tensorflow.keras.layers import Dense, LSTM, Embedding,Activation\n",
        "from tensorflow.keras.utils import to_categorical\n",
        "from tensorflow.keras.callbacks import EarlyStopping, ModelCheckpoint\n",
        "from tensorflow.keras.utils import to_categorical\n",
        "from tensorflow.keras.models import load_model\n",
        "from collections import Counter\n",
        "from keras import optimizers\n",
        "\n",
        "DATA_IN_PATH ='./content/drive/MyDrive/케글/DATA_IN/'"
      ],
      "execution_count": 2,
      "outputs": []
    },
    {
      "cell_type": "code",
      "metadata": {
        "id": "jVI35q2bQfiB"
      },
      "source": [
        "train = pd.read_csv(r'/content/drive/MyDrive/케글/train.hate.csv', engine='python', encoding='utf-8', sep=',')\n",
        "dev = pd.read_csv(r'/content/drive/MyDrive/케글/dev.hate.csv', engine='python', encoding='utf-8', sep=',')\n",
        "test_data = pd.read_csv(r'/content/drive/MyDrive/케글/test.hate.no_label.csv', engine='python', encoding='utf-8', sep=',')"
      ],
      "execution_count": 3,
      "outputs": []
    },
    {
      "cell_type": "code",
      "metadata": {
        "colab": {
          "base_uri": "https://localhost:8080/"
        },
        "id": "HKdQJSM4obMx",
        "outputId": "d0327163-4803-4352-b629-bdce34045adf"
      },
      "source": [
        "train.info()"
      ],
      "execution_count": 4,
      "outputs": [
        {
          "output_type": "stream",
          "text": [
            "<class 'pandas.core.frame.DataFrame'>\n",
            "RangeIndex: 7896 entries, 0 to 7895\n",
            "Data columns (total 2 columns):\n",
            " #   Column    Non-Null Count  Dtype \n",
            "---  ------    --------------  ----- \n",
            " 0   comments  7896 non-null   object\n",
            " 1   label     7896 non-null   object\n",
            "dtypes: object(2)\n",
            "memory usage: 123.5+ KB\n"
          ],
          "name": "stdout"
        }
      ]
    },
    {
      "cell_type": "code",
      "metadata": {
        "colab": {
          "base_uri": "https://localhost:8080/"
        },
        "id": "ps0u1SmFoo8k",
        "outputId": "4481f908-d05f-478a-ba50-e1da2a3f563e"
      },
      "source": [
        "dev.info()"
      ],
      "execution_count": 5,
      "outputs": [
        {
          "output_type": "stream",
          "text": [
            "<class 'pandas.core.frame.DataFrame'>\n",
            "RangeIndex: 471 entries, 0 to 470\n",
            "Data columns (total 2 columns):\n",
            " #   Column    Non-Null Count  Dtype \n",
            "---  ------    --------------  ----- \n",
            " 0   comments  471 non-null    object\n",
            " 1   label     471 non-null    object\n",
            "dtypes: object(2)\n",
            "memory usage: 7.5+ KB\n"
          ],
          "name": "stdout"
        }
      ]
    },
    {
      "cell_type": "code",
      "metadata": {
        "colab": {
          "base_uri": "https://localhost:8080/"
        },
        "id": "PZi3M2tB0SZC",
        "outputId": "e3426ea2-58ff-4726-81ee-edf400fab29b"
      },
      "source": [
        "test_data.info()"
      ],
      "execution_count": 6,
      "outputs": [
        {
          "output_type": "stream",
          "text": [
            "<class 'pandas.core.frame.DataFrame'>\n",
            "RangeIndex: 974 entries, 0 to 973\n",
            "Data columns (total 1 columns):\n",
            " #   Column    Non-Null Count  Dtype \n",
            "---  ------    --------------  ----- \n",
            " 0   comments  974 non-null    object\n",
            "dtypes: object(1)\n",
            "memory usage: 7.7+ KB\n"
          ],
          "name": "stdout"
        }
      ]
    },
    {
      "cell_type": "code",
      "metadata": {
        "id": "QJpMIKpEosvt"
      },
      "source": [
        "train_dev=pd.concat([train,dev])"
      ],
      "execution_count": 7,
      "outputs": []
    },
    {
      "cell_type": "code",
      "metadata": {
        "colab": {
          "base_uri": "https://localhost:8080/",
          "height": 411
        },
        "id": "A0esang_pJ6M",
        "outputId": "e7681eb4-ff52-446f-9c41-a42617a51e6a"
      },
      "source": [
        "train_dev"
      ],
      "execution_count": 8,
      "outputs": [
        {
          "output_type": "execute_result",
          "data": {
            "text/html": [
              "<div>\n",
              "<style scoped>\n",
              "    .dataframe tbody tr th:only-of-type {\n",
              "        vertical-align: middle;\n",
              "    }\n",
              "\n",
              "    .dataframe tbody tr th {\n",
              "        vertical-align: top;\n",
              "    }\n",
              "\n",
              "    .dataframe thead th {\n",
              "        text-align: right;\n",
              "    }\n",
              "</style>\n",
              "<table border=\"1\" class=\"dataframe\">\n",
              "  <thead>\n",
              "    <tr style=\"text-align: right;\">\n",
              "      <th></th>\n",
              "      <th>comments</th>\n",
              "      <th>label</th>\n",
              "    </tr>\n",
              "  </thead>\n",
              "  <tbody>\n",
              "    <tr>\n",
              "      <th>0</th>\n",
              "      <td>(현재 호텔주인 심정) 아18 난 마른하늘에 날벼락맞고 호텔망하게생겼는데 누군 계속...</td>\n",
              "      <td>hate</td>\n",
              "    </tr>\n",
              "    <tr>\n",
              "      <th>1</th>\n",
              "      <td>....한국적인 미인의 대표적인 분...너무나 곱고아름다운모습...그모습뒤의 슬픔을...</td>\n",
              "      <td>none</td>\n",
              "    </tr>\n",
              "    <tr>\n",
              "      <th>2</th>\n",
              "      <td>...못된 넘들...남의 고통을 즐겼던 넘들..이젠 마땅한 처벌을 받아야지..,그래...</td>\n",
              "      <td>hate</td>\n",
              "    </tr>\n",
              "    <tr>\n",
              "      <th>3</th>\n",
              "      <td>1,2화 어설펐는데 3,4화 지나서부터는 갈수록 너무 재밌던데</td>\n",
              "      <td>none</td>\n",
              "    </tr>\n",
              "    <tr>\n",
              "      <th>4</th>\n",
              "      <td>1. 사람 얼굴 손톱으로 긁은것은 인격살해이고2. 동영상이 몰카냐? 메걸리안들 생각...</td>\n",
              "      <td>hate</td>\n",
              "    </tr>\n",
              "    <tr>\n",
              "      <th>...</th>\n",
              "      <td>...</td>\n",
              "      <td>...</td>\n",
              "    </tr>\n",
              "    <tr>\n",
              "      <th>466</th>\n",
              "      <td>지현우 범죄 저지르지 않았나요?</td>\n",
              "      <td>offensive</td>\n",
              "    </tr>\n",
              "    <tr>\n",
              "      <th>467</th>\n",
              "      <td>여자인생 망칠 일 있나 ㅋㅋ</td>\n",
              "      <td>hate</td>\n",
              "    </tr>\n",
              "    <tr>\n",
              "      <th>468</th>\n",
              "      <td>근데 전라도에서 사고가 났는데 굳이 서울까지 와서 병원에 가느 이유는?</td>\n",
              "      <td>offensive</td>\n",
              "    </tr>\n",
              "    <tr>\n",
              "      <th>469</th>\n",
              "      <td>할매젖x, 뱃살x, 몸매 s라인, 유륜은 적당해야됨(너무크거나 너무 작아도 x), ...</td>\n",
              "      <td>hate</td>\n",
              "    </tr>\n",
              "    <tr>\n",
              "      <th>470</th>\n",
              "      <td>남자가 잘못한거라면... 반성도 없다면...나였다면 ... 여자처럼 아주 못되게 할...</td>\n",
              "      <td>none</td>\n",
              "    </tr>\n",
              "  </tbody>\n",
              "</table>\n",
              "<p>8367 rows × 2 columns</p>\n",
              "</div>"
            ],
            "text/plain": [
              "                                              comments      label\n",
              "0    (현재 호텔주인 심정) 아18 난 마른하늘에 날벼락맞고 호텔망하게생겼는데 누군 계속...       hate\n",
              "1    ....한국적인 미인의 대표적인 분...너무나 곱고아름다운모습...그모습뒤의 슬픔을...       none\n",
              "2    ...못된 넘들...남의 고통을 즐겼던 넘들..이젠 마땅한 처벌을 받아야지..,그래...       hate\n",
              "3                   1,2화 어설펐는데 3,4화 지나서부터는 갈수록 너무 재밌던데       none\n",
              "4    1. 사람 얼굴 손톱으로 긁은것은 인격살해이고2. 동영상이 몰카냐? 메걸리안들 생각...       hate\n",
              "..                                                 ...        ...\n",
              "466                                  지현우 범죄 저지르지 않았나요?  offensive\n",
              "467                                    여자인생 망칠 일 있나 ㅋㅋ       hate\n",
              "468            근데 전라도에서 사고가 났는데 굳이 서울까지 와서 병원에 가느 이유는?  offensive\n",
              "469  할매젖x, 뱃살x, 몸매 s라인, 유륜은 적당해야됨(너무크거나 너무 작아도 x), ...       hate\n",
              "470  남자가 잘못한거라면... 반성도 없다면...나였다면 ... 여자처럼 아주 못되게 할...       none\n",
              "\n",
              "[8367 rows x 2 columns]"
            ]
          },
          "metadata": {
            "tags": []
          },
          "execution_count": 8
        }
      ]
    },
    {
      "cell_type": "code",
      "metadata": {
        "colab": {
          "base_uri": "https://localhost:8080/",
          "height": 318
        },
        "id": "wYB20ewuvU5C",
        "outputId": "5d145432-665e-4783-9b9a-a6bcd774770f"
      },
      "source": [
        "train_dev['label'].value_counts().plot(kind='bar')"
      ],
      "execution_count": 9,
      "outputs": [
        {
          "output_type": "execute_result",
          "data": {
            "text/plain": [
              "<matplotlib.axes._subplots.AxesSubplot at 0x7fccc7c8d190>"
            ]
          },
          "metadata": {
            "tags": []
          },
          "execution_count": 9
        },
        {
          "output_type": "display_data",
          "data": {
            "image/png": "[encoded data removed]",
            "text/plain": [
              "<Figure size 432x288 with 1 Axes>"
            ]
          },
          "metadata": {
            "tags": [],
            "needs_background": "light"
          }
        }
      ]
    },
    {
      "cell_type": "code",
      "metadata": {
        "colab": {
          "base_uri": "https://localhost:8080/"
        },
        "id": "ULkcPEKSv34r",
        "outputId": "db57c2b2-4522-4af8-8459-669a0f441b87"
      },
      "source": [
        "print(train_dev.groupby('label').size().reset_index(name='count'))"
      ],
      "execution_count": 10,
      "outputs": [
        {
          "output_type": "stream",
          "text": [
            "       label  count\n",
            "0       hate   2033\n",
            "1       none   3646\n",
            "2  offensive   2688\n"
          ],
          "name": "stdout"
        }
      ]
    },
    {
      "cell_type": "code",
      "metadata": {
        "colab": {
          "base_uri": "https://localhost:8080/",
          "height": 411
        },
        "id": "VzoR0QrrZkc2",
        "outputId": "61d55f74-4682-47e4-f414-3e3c23a5d7ff"
      },
      "source": [
        "train_dev=train_dev.replace({\"none\":0,\"offensive\":1,\"hate\":2})\n",
        "train_dev"
      ],
      "execution_count": 11,
      "outputs": [
        {
          "output_type": "execute_result",
          "data": {
            "text/html": [
              "<div>\n",
              "<style scoped>\n",
              "    .dataframe tbody tr th:only-of-type {\n",
              "        vertical-align: middle;\n",
              "    }\n",
              "\n",
              "    .dataframe tbody tr th {\n",
              "        vertical-align: top;\n",
              "    }\n",
              "\n",
              "    .dataframe thead th {\n",
              "        text-align: right;\n",
              "    }\n",
              "</style>\n",
              "<table border=\"1\" class=\"dataframe\">\n",
              "  <thead>\n",
              "    <tr style=\"text-align: right;\">\n",
              "      <th></th>\n",
              "      <th>comments</th>\n",
              "      <th>label</th>\n",
              "    </tr>\n",
              "  </thead>\n",
              "  <tbody>\n",
              "    <tr>\n",
              "      <th>0</th>\n",
              "      <td>(현재 호텔주인 심정) 아18 난 마른하늘에 날벼락맞고 호텔망하게생겼는데 누군 계속...</td>\n",
              "      <td>2</td>\n",
              "    </tr>\n",
              "    <tr>\n",
              "      <th>1</th>\n",
              "      <td>....한국적인 미인의 대표적인 분...너무나 곱고아름다운모습...그모습뒤의 슬픔을...</td>\n",
              "      <td>0</td>\n",
              "    </tr>\n",
              "    <tr>\n",
              "      <th>2</th>\n",
              "      <td>...못된 넘들...남의 고통을 즐겼던 넘들..이젠 마땅한 처벌을 받아야지..,그래...</td>\n",
              "      <td>2</td>\n",
              "    </tr>\n",
              "    <tr>\n",
              "      <th>3</th>\n",
              "      <td>1,2화 어설펐는데 3,4화 지나서부터는 갈수록 너무 재밌던데</td>\n",
              "      <td>0</td>\n",
              "    </tr>\n",
              "    <tr>\n",
              "      <th>4</th>\n",
              "      <td>1. 사람 얼굴 손톱으로 긁은것은 인격살해이고2. 동영상이 몰카냐? 메걸리안들 생각...</td>\n",
              "      <td>2</td>\n",
              "    </tr>\n",
              "    <tr>\n",
              "      <th>...</th>\n",
              "      <td>...</td>\n",
              "      <td>...</td>\n",
              "    </tr>\n",
              "    <tr>\n",
              "      <th>466</th>\n",
              "      <td>지현우 범죄 저지르지 않았나요?</td>\n",
              "      <td>1</td>\n",
              "    </tr>\n",
              "    <tr>\n",
              "      <th>467</th>\n",
              "      <td>여자인생 망칠 일 있나 ㅋㅋ</td>\n",
              "      <td>2</td>\n",
              "    </tr>\n",
              "    <tr>\n",
              "      <th>468</th>\n",
              "      <td>근데 전라도에서 사고가 났는데 굳이 서울까지 와서 병원에 가느 이유는?</td>\n",
              "      <td>1</td>\n",
              "    </tr>\n",
              "    <tr>\n",
              "      <th>469</th>\n",
              "      <td>할매젖x, 뱃살x, 몸매 s라인, 유륜은 적당해야됨(너무크거나 너무 작아도 x), ...</td>\n",
              "      <td>2</td>\n",
              "    </tr>\n",
              "    <tr>\n",
              "      <th>470</th>\n",
              "      <td>남자가 잘못한거라면... 반성도 없다면...나였다면 ... 여자처럼 아주 못되게 할...</td>\n",
              "      <td>0</td>\n",
              "    </tr>\n",
              "  </tbody>\n",
              "</table>\n",
              "<p>8367 rows × 2 columns</p>\n",
              "</div>"
            ],
            "text/plain": [
              "                                              comments  label\n",
              "0    (현재 호텔주인 심정) 아18 난 마른하늘에 날벼락맞고 호텔망하게생겼는데 누군 계속...      2\n",
              "1    ....한국적인 미인의 대표적인 분...너무나 곱고아름다운모습...그모습뒤의 슬픔을...      0\n",
              "2    ...못된 넘들...남의 고통을 즐겼던 넘들..이젠 마땅한 처벌을 받아야지..,그래...      2\n",
              "3                   1,2화 어설펐는데 3,4화 지나서부터는 갈수록 너무 재밌던데      0\n",
              "4    1. 사람 얼굴 손톱으로 긁은것은 인격살해이고2. 동영상이 몰카냐? 메걸리안들 생각...      2\n",
              "..                                                 ...    ...\n",
              "466                                  지현우 범죄 저지르지 않았나요?      1\n",
              "467                                    여자인생 망칠 일 있나 ㅋㅋ      2\n",
              "468            근데 전라도에서 사고가 났는데 굳이 서울까지 와서 병원에 가느 이유는?      1\n",
              "469  할매젖x, 뱃살x, 몸매 s라인, 유륜은 적당해야됨(너무크거나 너무 작아도 x), ...      2\n",
              "470  남자가 잘못한거라면... 반성도 없다면...나였다면 ... 여자처럼 아주 못되게 할...      0\n",
              "\n",
              "[8367 rows x 2 columns]"
            ]
          },
          "metadata": {
            "tags": []
          },
          "execution_count": 11
        }
      ]
    },
    {
      "cell_type": "code",
      "metadata": {
        "colab": {
          "base_uri": "https://localhost:8080/"
        },
        "id": "OabsP6CFZxTb",
        "outputId": "f9710901-1846-42c6-ecb4-89ed4121b1cb"
      },
      "source": [
        "train_dev['comments'][:5]"
      ],
      "execution_count": 12,
      "outputs": [
        {
          "output_type": "execute_result",
          "data": {
            "text/plain": [
              "0    (현재 호텔주인 심정) 아18 난 마른하늘에 날벼락맞고 호텔망하게생겼는데 누군 계속...\n",
              "1    ....한국적인 미인의 대표적인 분...너무나 곱고아름다운모습...그모습뒤의 슬픔을...\n",
              "2    ...못된 넘들...남의 고통을 즐겼던 넘들..이젠 마땅한 처벌을 받아야지..,그래...\n",
              "3                   1,2화 어설펐는데 3,4화 지나서부터는 갈수록 너무 재밌던데\n",
              "4    1. 사람 얼굴 손톱으로 긁은것은 인격살해이고2. 동영상이 몰카냐? 메걸리안들 생각...\n",
              "Name: comments, dtype: object"
            ]
          },
          "metadata": {
            "tags": []
          },
          "execution_count": 12
        }
      ]
    },
    {
      "cell_type": "code",
      "metadata": {
        "colab": {
          "base_uri": "https://localhost:8080/"
        },
        "id": "wOpscHN-aNKf",
        "outputId": "d79d9c65-8b91-40c1-e831-b2361199cf77"
      },
      "source": [
        "review_text= train_dev['comments'].str.replace(\"[^ㄱ-ㅎㅏ-ㅣ가-힣 ]\",\"\")\n",
        "print(review_text)"
      ],
      "execution_count": 13,
      "outputs": [
        {
          "output_type": "stream",
          "text": [
            "0        현재 호텔주인 심정 아 난 마른하늘에 날벼락맞고 호텔망하게생겼는데 누군 계속 추모받네\n",
            "1        한국적인 미인의 대표적인 분너무나 곱고아름다운모습그모습뒤의 슬픔을 미처 알지못했네요ㅠ\n",
            "2      못된 넘들남의 고통을 즐겼던 넘들이젠 마땅한 처벌을 받아야지그래야 공정한 사회지심은...\n",
            "3                           화 어설펐는데 화 지나서부터는 갈수록 너무 재밌던데\n",
            "4           사람 얼굴 손톱으로 긁은것은 인격살해이고 동영상이 몰카냐 메걸리안들 생각이 없노\n",
            "                             ...                        \n",
            "466                                     지현우 범죄 저지르지 않았나요\n",
            "467                                      여자인생 망칠 일 있나 ㅋㅋ\n",
            "468               근데 전라도에서 사고가 났는데 굳이 서울까지 와서 병원에 가느 이유는\n",
            "469       할매젖 뱃살 몸매 라인 유륜은 적당해야됨너무크거나 너무 작아도  엉덩이가 빵빵해야됨\n",
            "470    남자가 잘못한거라면 반성도 없다면나였다면  여자처럼 아주 못되게 할것같다왜 나를 배...\n",
            "Name: comments, Length: 8367, dtype: object\n"
          ],
          "name": "stdout"
        }
      ]
    },
    {
      "cell_type": "code",
      "metadata": {
        "colab": {
          "base_uri": "https://localhost:8080/"
        },
        "id": "PViRjFBYcjhR",
        "outputId": "ff2dd383-d4c2-434b-fcc9-f4eade2b7b4d"
      },
      "source": [
        "def preprocessing(review, okt, remove_stopwords = False, stop_words =[]):\n",
        "#review: 전처리할 텍스트\n",
        "#remove_stopword:불용어를 제거할 지 여부 선택. 기본은 False\n",
        "#stop_word: 불용어 사전은 사용자가 직접 입력해야함. 기본값은 빈 리스트\n",
        "\n",
        "# 1. 한글 및 공백을 제외한 문자를 모두 제거\n",
        " # review_text = train_dev['comments'].str.replace(\"[^ㄱ-ㅎㅏ-ㅣ가-힣 ]\",\"\",review)\n",
        "  review_text = re.sub(\"[^ㄱ-ㅎㅏ-ㅣ가-힣 ]\",\"\",review)\n",
        "\n",
        "#2. okt객체를 활용해 형태소 단위로 나눈다.\n",
        "  word_review = okt.morphs(review_text, stem=True)\n",
        "\n",
        "  if remove_stopwords:\n",
        "  #불용어 제거 (선택적)\n",
        "    word_review = [token for token in word_review if not token in stop_words]\n",
        "\n",
        "  return word_review\n",
        "\n",
        "\n",
        "stop_words = ['ㅠ', 'ㅋ' '을', '를', '수', '주','되', '의','가','이','은','들','는','좀','잘','걍','과','도','를','으로','자','에','와','한','하다']\n",
        "okt = Okt()\n",
        "clean_train_review =[]\n",
        "\n",
        "for review in train_dev ['comments']:\n",
        "  # 비어있는 데이터에서 멈추지 않도록 문자열인 경우에만 진행\n",
        "  if type(review) == str:\n",
        "    clean_train_review.append(preprocessing(review, okt, remove_stopwords = True, stop_words =stop_words))\n",
        "  else:\n",
        "    clean_train_review.append([]) # str이 아니면 비어있는 값 추가\n",
        "\n",
        "clean_train_review[:4]"
      ],
      "execution_count": 14,
      "outputs": [
        {
          "output_type": "execute_result",
          "data": {
            "text/plain": [
              "[['현재',\n",
              "  '호텔',\n",
              "  '주인',\n",
              "  '심정',\n",
              "  '아',\n",
              "  '난',\n",
              "  '마른하늘',\n",
              "  '날벼락',\n",
              "  '맞다',\n",
              "  '호텔',\n",
              "  '망하다',\n",
              "  '생기다',\n",
              "  '누',\n",
              "  '군',\n",
              "  '계속',\n",
              "  '추모',\n",
              "  '받다'],\n",
              " ['한국',\n",
              "  '적',\n",
              "  '인',\n",
              "  '미인',\n",
              "  '대표',\n",
              "  '적',\n",
              "  '인',\n",
              "  '분',\n",
              "  '너무나',\n",
              "  '곱',\n",
              "  '고',\n",
              "  '아름답다',\n",
              "  '모습',\n",
              "  '그',\n",
              "  '모습',\n",
              "  '뒤',\n",
              "  '슬픔',\n",
              "  '을',\n",
              "  '미처',\n",
              "  '알다'],\n",
              " ['못',\n",
              "  '되다',\n",
              "  '넘다',\n",
              "  '들다',\n",
              "  '남',\n",
              "  '고통',\n",
              "  '을',\n",
              "  '즐기다',\n",
              "  '넘다',\n",
              "  '들이다',\n",
              "  '젠',\n",
              "  '마땅하다',\n",
              "  '처벌',\n",
              "  '을',\n",
              "  '받다',\n",
              "  '그',\n",
              "  '래야',\n",
              "  '공정하다',\n",
              "  '사회',\n",
              "  '지',\n",
              "  '심다',\n",
              "  '거두다'],\n",
              " ['화', '어설프다', '화', '지나다', '갈수록', '너무', '재밌다']]"
            ]
          },
          "metadata": {
            "tags": []
          },
          "execution_count": 14
        }
      ]
    },
    {
      "cell_type": "code",
      "metadata": {
        "id": "u-oN19ouhQ7A"
      },
      "source": [
        "clean_test_review = []\n",
        "\n",
        "for review in test_data['comments']:\n",
        "  #빈 데이터에서 멈추지 않도록 문자열인 경우에만 진행\n",
        "  if type(review) == str:\n",
        "    clean_train_review.append(preprocessing(review, okt, remove_stopwords = True, stop_words =stop_words))\n",
        "  else:\n",
        "    clean_train_review.append([]) # str이 아니면 비어있는 값 추가"
      ],
      "execution_count": 15,
      "outputs": []
    },
    {
      "cell_type": "code",
      "metadata": {
        "id": "KIFeSKqRjUGs"
      },
      "source": [
        "# 테스트 데이터 'label' 컬럼 만들기\n",
        "test_data = test_data.reindex(columns = test_data.columns.tolist() + [\"label\"])"
      ],
      "execution_count": 16,
      "outputs": []
    },
    {
      "cell_type": "code",
      "metadata": {
        "colab": {
          "base_uri": "https://localhost:8080/"
        },
        "id": "o16dlqxCjprA",
        "outputId": "ea6d6788-9b60-417a-a34b-be70988e26b3"
      },
      "source": [
        "test_data.shape\n",
        "test_data.columns"
      ],
      "execution_count": 17,
      "outputs": [
        {
          "output_type": "execute_result",
          "data": {
            "text/plain": [
              "Index(['comments', 'label'], dtype='object')"
            ]
          },
          "metadata": {
            "tags": []
          },
          "execution_count": 17
        }
      ]
    },
    {
      "cell_type": "code",
      "metadata": {
        "id": "gDeBSFrNh3vP"
      },
      "source": [
        "tokenizer = Tokenizer()\n",
        "tokenizer.fit_on_texts(clean_train_review)\n",
        "train_sequences = tokenizer.texts_to_sequences(clean_train_review)\n",
        "test_sequences = tokenizer.texts_to_sequences(clean_test_review)\n",
        "\n",
        "word_vocab = tokenizer.word_index # 단어 사전 형태\n",
        "\n",
        "MAX_SEQUENCE_LENGTH = 52\n",
        "\n",
        "train_inputs = pad_sequences(train_sequences, maxlen=MAX_SEQUENCE_LENGTH, padding='post')\n",
        "# 학습데이터를 벡터화\n",
        "train_labels = np.array(train_dev['label']) # 학습 데이터의 라벨\n",
        "test_inputs = pad_sequences(test_sequences, maxlen=MAX_SEQUENCE_LENGTH, padding='post')\n",
        "# 평가 데이터를 벡터화\n",
        "test_labels = np.array(test_data['label']) # 평가 데이터의 라벨"
      ],
      "execution_count": 18,
      "outputs": []
    },
    {
      "cell_type": "code",
      "metadata": {
        "colab": {
          "base_uri": "https://localhost:8080/"
        },
        "id": "1lPnHDtUiarH",
        "outputId": "76dd89a9-937e-4a01-8872-57e1bc0ff89a"
      },
      "source": [
        "X = np.expand_dims(train_inputs, axis = 0)\n",
        "print('Shape of X is ', X.shape)"
      ],
      "execution_count": 35,
      "outputs": [
        {
          "output_type": "stream",
          "text": [
            "Shape of X is  (1, 9341, 52)\n"
          ],
          "name": "stdout"
        }
      ]
    },
    {
      "cell_type": "code",
      "metadata": {
        "colab": {
          "base_uri": "https://localhost:8080/"
        },
        "id": "1PEBE21rijdJ",
        "outputId": "4a54dafd-1e28-440a-fba3-b073942d60b3"
      },
      "source": [
        "y = np.array([1,0,1])\n",
        "y = y.reshape(1,-1)\n",
        "y = np.expand_dims(test_inputs, axis = 0)\n",
        "print('Shape of y is ', Y.shape)"
      ],
      "execution_count": 40,
      "outputs": [
        {
          "output_type": "stream",
          "text": [
            "Shape of y is  (1, 0, 52)\n"
          ],
          "name": "stdout"
        }
      ]
    },
    {
      "cell_type": "code",
      "metadata": {
        "id": "cD9OXyzTjyxt"
      },
      "source": [
        "DATA_IN_PATH ='/content/drive/MyDrive/케글/DATA_IN/'\n",
        "DEFAULT_PATH ='/content/drive/MyDrive/케글/DEFAULT_PATH/'\n",
        "TRAIN_INPUT_DATA = 'nsmc_train_input.npy'\n",
        "TRAIN_LABEL_DATA = 'nsmc_train_label.npy'\n",
        "TEST_INPUT_DATA = 'nsmc_test_input.npy'\n",
        "TEST_LABEL_DATA = 'nsmc_test_label.npy'\n",
        "DATA_CONFIGS = 'data_configs.json'\n",
        "\n",
        "data_configs ={}\n",
        "\n",
        "data_configs['vocab'] = word_vocab\n",
        "data_configs['vocab_size'] = len(word_vocab)+1 # vocab size 추가\n",
        "\n",
        "# 저장하는 디렉터리가 존재하지 않으면 생성\n",
        "if not os.path.exists(DEFAULT_PATH + DATA_IN_PATH):\n",
        "  os.makedirs(DEFAULT_PATH + DATA_IN_PATH)\n",
        "\n",
        "# 전처리된 학습 데이터를 넘파이 형태로 저장\n",
        "np.save(open(DEFAULT_PATH + DATA_IN_PATH + TRAIN_INPUT_DATA, 'wb'), train_inputs)\n",
        "np.save(open(DEFAULT_PATH + DATA_IN_PATH + TRAIN_LABEL_DATA, 'wb'), train_labels)\n",
        "\n",
        "# 전처리된 평가 데이터를 넘파이 형태로 저장\n",
        "np.save(open(DEFAULT_PATH + DATA_IN_PATH + TEST_INPUT_DATA, 'wb'), test_inputs)\n",
        "np.save(open(DEFAULT_PATH + DATA_IN_PATH + TEST_LABEL_DATA, 'wb'), test_labels)\n",
        "\n",
        "# 데이터 사전을 json 형태로 저장\n",
        "json.dump(data_configs, open(DEFAULT_PATH + DATA_IN_PATH + DATA_CONFIGS, 'w'), ensure_ascii=False)"
      ],
      "execution_count": 19,
      "outputs": []
    },
    {
      "cell_type": "markdown",
      "metadata": {
        "id": "Eiz9l1P7mZoH"
      },
      "source": [
        "# 모델링"
      ]
    },
    {
      "cell_type": "code",
      "metadata": {
        "id": "AxYjfyGlnEeS"
      },
      "source": [
        "import tensorflow as tf\n",
        "from tensorflow.keras.preprocessing.sequence import pad_sequences\n",
        "from tensorflow.keras.callbacks import EarlyStopping, ModelCheckpoint\n",
        "from tensorflow.keras import layers\n",
        "\n",
        "import numpy as np\n",
        "import pandas as pd\n",
        "import matplotlib.pyplot as plt\n",
        "import os\n",
        "import json\n",
        "\n",
        "from tqdm import tqdm"
      ],
      "execution_count": 20,
      "outputs": []
    },
    {
      "cell_type": "code",
      "metadata": {
        "id": "owfXZOLi5AbZ"
      },
      "source": [
        "train_input = np.load(open('/content/drive/MyDrive/케글/DATA_IN/nsmc_train_input.npy', 'rb'))\n",
        "train_input = pad_sequences(train_input, maxlen=train_input.shape[1])\n",
        "train_label = np.load(open('/content/drive/MyDrive/케글/DATA_IN/nsmc_train_label.npy','rb'))\n",
        "prepro_configs = json.load(open('/content/drive/MyDrive/케글/DATA_IN/data_configs.json','r'))"
      ],
      "execution_count": 21,
      "outputs": []
    },
    {
      "cell_type": "markdown",
      "metadata": {
        "id": "nw3Jafwf5GjX"
      },
      "source": [
        "# 파라미터 정의"
      ]
    },
    {
      "cell_type": "code",
      "metadata": {
        "id": "UXVnXQO-5K1-"
      },
      "source": [
        "model_name = 'cnn_classifier_kr'\n",
        "BATCH_SIZE = 512\n",
        "NUM_EPOCHS =2\n",
        "VALID_SPLIT =0.1\n",
        "MAX_LEN = train_input.shape[1]\n",
        "\n",
        "kargs = {'model_name': model_name,\n",
        "         'vocab_size': prepro_configs['vocab_size'],\n",
        "         'embedding_size':18,\n",
        "         'num_filters':100,\n",
        "         'dropout_rate':0.5,\n",
        "         'hidden_dimension':250,\n",
        "         'output_dimensition':1}"
      ],
      "execution_count": 22,
      "outputs": []
    },
    {
      "cell_type": "markdown",
      "metadata": {
        "id": "FkRaIkGO7BnI"
      },
      "source": [
        "# 모델 구현 함수"
      ]
    },
    {
      "cell_type": "code",
      "metadata": {
        "id": "GW-O9zgU7Dcs"
      },
      "source": [
        "class CNNClassifier(tf.keras.Model):\n",
        "\n",
        "  def __init__(self,**kargs):\n",
        "    super(CNNClassifier, self).__init__(name=kargs['model_name'])\n",
        "    self.embedding = layers.Embedding(input_dim=kargs['vocab_size'],\n",
        "                                      output_dim=kargs['embedding_size'])\n",
        "    self.conv_list =[layers.Conv1D(filters=kargs['num_filters'],\n",
        "                                   kernel_size=kernel_size,\n",
        "                                   padding='valid',\n",
        "                                   activation=tf.keras.activations.relu,\n",
        "kernel_constraint=tf.keras.constraints.MaxNorm(max_value=3.))\n",
        "                   for kernel_size in [3,4,5]]\n",
        "    self.pooling = layers.GlobalMaxPooling1D()\n",
        "    self.dropout = layers.Dropout(kargs['dropout_rate'])\n",
        "    self.fc1 = layers.Dense(units=kargs['hidden_dimension'],\n",
        "                            activation=tf.keras.activations.relu,\n",
        "                            kernel_constraint=tf.keras.constraints.MaxNorm(max_value=3.))\n",
        "    self.fc2 = layers.Dense(units=kargs['output_dimensition'],\n",
        "                            activation=tf.keras.activations.softmax,\n",
        "                            kernel_constraint=tf.keras.constraints.MaxNorm(max_value=3.))\n",
        "        \n",
        "\n",
        "  def call(self, x):\n",
        "    x = self.embedding(x)\n",
        "    x = self.dropout(x)\n",
        "    x = tf.concat([self.pooling(conv(x)) for conv in self.conv_list], axis=-1)\n",
        "    x = self.fc1(x)\n",
        "    x = self.fc2(x)\n",
        "\n",
        "    return x"
      ],
      "execution_count": 23,
      "outputs": []
    },
    {
      "cell_type": "markdown",
      "metadata": {
        "id": "chIzWrgyAwc4"
      },
      "source": [
        "# 모델 학습"
      ]
    },
    {
      "cell_type": "code",
      "metadata": {
        "colab": {
          "base_uri": "https://localhost:8080/",
          "height": 164
        },
        "id": "5xS7vllYgj3I",
        "outputId": "910f5efe-f223-48ef-d246-ebf740c8148a"
      },
      "source": [
        "X_test = tf.keras.utils.normalize(x_test, axis = 1)"
      ],
      "execution_count": 33,
      "outputs": [
        {
          "output_type": "error",
          "ename": "NameError",
          "evalue": "ignored",
          "traceback": [
            "\u001b[0;31m---------------------------------------------------------------------------\u001b[0m",
            "\u001b[0;31mNameError\u001b[0m                                 Traceback (most recent call last)",
            "\u001b[0;32m<ipython-input-33-4f7b95692fd3>\u001b[0m in \u001b[0;36m<module>\u001b[0;34m()\u001b[0m\n\u001b[0;32m----> 1\u001b[0;31m \u001b[0mX_test\u001b[0m \u001b[0;34m=\u001b[0m \u001b[0mtf\u001b[0m\u001b[0;34m.\u001b[0m\u001b[0mkeras\u001b[0m\u001b[0;34m.\u001b[0m\u001b[0mutils\u001b[0m\u001b[0;34m.\u001b[0m\u001b[0mnormalize\u001b[0m\u001b[0;34m(\u001b[0m\u001b[0mx_test\u001b[0m\u001b[0;34m,\u001b[0m \u001b[0maxis\u001b[0m \u001b[0;34m=\u001b[0m \u001b[0;36m1\u001b[0m\u001b[0;34m)\u001b[0m\u001b[0;34m\u001b[0m\u001b[0;34m\u001b[0m\u001b[0m\n\u001b[0m",
            "\u001b[0;31mNameError\u001b[0m: name 'x_test' is not defined"
          ]
        }
      ]
    },
    {
      "cell_type": "code",
      "metadata": {
        "id": "vkR9lH0cBPIN"
      },
      "source": [
        "model = CNNClassifier(**kargs)\n",
        "\n",
        "model.compile(optimizer=tf.keras.optimizers.Adam(),\n",
        "              loss=tf.keras.losses.SparseCategoricalCrossentropy(), # 다중 분류 손실함수 \n",
        "              metrics=[tf.keras.metrics.SparseCategoricalAccuracy(name='accuracy')])\n",
        "\n"
      ],
      "execution_count": 32,
      "outputs": []
    },
    {
      "cell_type": "code",
      "metadata": {
        "colab": {
          "base_uri": "https://localhost:8080/",
          "height": 427
        },
        "id": "CLJ5zFsLFxX-",
        "outputId": "1b449070-e47a-4b6a-b67f-66ca61407d5b"
      },
      "source": [
        "DATA_OUT_PATH ='/content/drive/MyDrive/케글/DATA_OUT/'\n",
        "\n",
        "earlystop_callback = EarlyStopping(monitor='val_accuracy', min_delta=0.0001, patience=2)\n",
        "\n",
        "checkpoint_path = DATA_OUT_PATH + model_name +'/weights.h5'\n",
        "checkpoint_dir = os.path.dirname(checkpoint_path)\n",
        "\n",
        "# Create path if exists\n",
        "\n",
        "if os.path.exists(checkpoint_dir):\n",
        "  print(\"{} -- Folder already exiists \\n\".format(checkpoint_dir))\n",
        "else:\n",
        "  os.makedirs(checkpoint_dir, exist_ok=True)\n",
        "  print(\"{} -- Folder create complete \\n\".format(checkpoint_dir))\n",
        "\n",
        "cp_callback = ModelCheckpoint(\n",
        "    checkpoint_path, monitor='val_accuracy', verbose=1, save_best_only=True,\n",
        "    save_weights_only=True)\n",
        "\n",
        "history = model.fit(train_input, train_label, batch_size=BATCH_SIZE, epochs=NUM_EPOCHS,\n",
        "                    validation_split=VALID_SPLIT, callbacks=[earlystop_callback, cp_callback])"
      ],
      "execution_count": 31,
      "outputs": [
        {
          "output_type": "stream",
          "text": [
            "/content/drive/MyDrive/케글/DATA_OUT/cnn_classifier_kr -- Folder already exiists \n",
            "\n"
          ],
          "name": "stdout"
        },
        {
          "output_type": "error",
          "ename": "ValueError",
          "evalue": "ignored",
          "traceback": [
            "\u001b[0;31m---------------------------------------------------------------------------\u001b[0m",
            "\u001b[0;31mValueError\u001b[0m                                Traceback (most recent call last)",
            "\u001b[0;32m<ipython-input-31-9e54d29e44f3>\u001b[0m in \u001b[0;36m<module>\u001b[0;34m()\u001b[0m\n\u001b[1;32m     19\u001b[0m \u001b[0;34m\u001b[0m\u001b[0m\n\u001b[1;32m     20\u001b[0m history = model.fit(train_input, train_label, batch_size=BATCH_SIZE, epochs=NUM_EPOCHS,\n\u001b[0;32m---> 21\u001b[0;31m                     validation_split=VALID_SPLIT, callbacks=[earlystop_callback, cp_callback])\n\u001b[0m",
            "\u001b[0;32m/usr/local/lib/python3.7/dist-packages/tensorflow/python/keras/engine/training.py\u001b[0m in \u001b[0;36mfit\u001b[0;34m(self, x, y, batch_size, epochs, verbose, callbacks, validation_split, validation_data, shuffle, class_weight, sample_weight, initial_epoch, steps_per_epoch, validation_steps, validation_batch_size, validation_freq, max_queue_size, workers, use_multiprocessing)\u001b[0m\n\u001b[1;32m   1062\u001b[0m           \u001b[0muse_multiprocessing\u001b[0m\u001b[0;34m=\u001b[0m\u001b[0muse_multiprocessing\u001b[0m\u001b[0;34m,\u001b[0m\u001b[0;34m\u001b[0m\u001b[0;34m\u001b[0m\u001b[0m\n\u001b[1;32m   1063\u001b[0m           \u001b[0mmodel\u001b[0m\u001b[0;34m=\u001b[0m\u001b[0mself\u001b[0m\u001b[0;34m,\u001b[0m\u001b[0;34m\u001b[0m\u001b[0;34m\u001b[0m\u001b[0m\n\u001b[0;32m-> 1064\u001b[0;31m           steps_per_execution=self._steps_per_execution)\n\u001b[0m\u001b[1;32m   1065\u001b[0m \u001b[0;34m\u001b[0m\u001b[0m\n\u001b[1;32m   1066\u001b[0m       \u001b[0;31m# Container that configures and calls `tf.keras.Callback`s.\u001b[0m\u001b[0;34m\u001b[0m\u001b[0;34m\u001b[0m\u001b[0;34m\u001b[0m\u001b[0m\n",
            "\u001b[0;32m/usr/local/lib/python3.7/dist-packages/tensorflow/python/keras/engine/data_adapter.py\u001b[0m in \u001b[0;36m__init__\u001b[0;34m(self, x, y, sample_weight, batch_size, steps_per_epoch, initial_epoch, epochs, shuffle, class_weight, max_queue_size, workers, use_multiprocessing, model, steps_per_execution)\u001b[0m\n\u001b[1;32m   1110\u001b[0m         \u001b[0muse_multiprocessing\u001b[0m\u001b[0;34m=\u001b[0m\u001b[0muse_multiprocessing\u001b[0m\u001b[0;34m,\u001b[0m\u001b[0;34m\u001b[0m\u001b[0;34m\u001b[0m\u001b[0m\n\u001b[1;32m   1111\u001b[0m         \u001b[0mdistribution_strategy\u001b[0m\u001b[0;34m=\u001b[0m\u001b[0mds_context\u001b[0m\u001b[0;34m.\u001b[0m\u001b[0mget_strategy\u001b[0m\u001b[0;34m(\u001b[0m\u001b[0;34m)\u001b[0m\u001b[0;34m,\u001b[0m\u001b[0;34m\u001b[0m\u001b[0;34m\u001b[0m\u001b[0m\n\u001b[0;32m-> 1112\u001b[0;31m         model=model)\n\u001b[0m\u001b[1;32m   1113\u001b[0m \u001b[0;34m\u001b[0m\u001b[0m\n\u001b[1;32m   1114\u001b[0m     \u001b[0mstrategy\u001b[0m \u001b[0;34m=\u001b[0m \u001b[0mds_context\u001b[0m\u001b[0;34m.\u001b[0m\u001b[0mget_strategy\u001b[0m\u001b[0;34m(\u001b[0m\u001b[0;34m)\u001b[0m\u001b[0;34m\u001b[0m\u001b[0;34m\u001b[0m\u001b[0m\n",
            "\u001b[0;32m/usr/local/lib/python3.7/dist-packages/tensorflow/python/keras/engine/data_adapter.py\u001b[0m in \u001b[0;36m__init__\u001b[0;34m(self, x, y, sample_weights, sample_weight_modes, batch_size, epochs, steps, shuffle, **kwargs)\u001b[0m\n\u001b[1;32m    272\u001b[0m \u001b[0;34m\u001b[0m\u001b[0m\n\u001b[1;32m    273\u001b[0m     \u001b[0mnum_samples\u001b[0m \u001b[0;34m=\u001b[0m \u001b[0mset\u001b[0m\u001b[0;34m(\u001b[0m\u001b[0mint\u001b[0m\u001b[0;34m(\u001b[0m\u001b[0mi\u001b[0m\u001b[0;34m.\u001b[0m\u001b[0mshape\u001b[0m\u001b[0;34m[\u001b[0m\u001b[0;36m0\u001b[0m\u001b[0;34m]\u001b[0m\u001b[0;34m)\u001b[0m \u001b[0;32mfor\u001b[0m \u001b[0mi\u001b[0m \u001b[0;32min\u001b[0m \u001b[0mnest\u001b[0m\u001b[0;34m.\u001b[0m\u001b[0mflatten\u001b[0m\u001b[0;34m(\u001b[0m\u001b[0minputs\u001b[0m\u001b[0;34m)\u001b[0m\u001b[0;34m)\u001b[0m\u001b[0;34m.\u001b[0m\u001b[0mpop\u001b[0m\u001b[0;34m(\u001b[0m\u001b[0;34m)\u001b[0m\u001b[0;34m\u001b[0m\u001b[0;34m\u001b[0m\u001b[0m\n\u001b[0;32m--> 274\u001b[0;31m     \u001b[0m_check_data_cardinality\u001b[0m\u001b[0;34m(\u001b[0m\u001b[0minputs\u001b[0m\u001b[0;34m)\u001b[0m\u001b[0;34m\u001b[0m\u001b[0;34m\u001b[0m\u001b[0m\n\u001b[0m\u001b[1;32m    275\u001b[0m \u001b[0;34m\u001b[0m\u001b[0m\n\u001b[1;32m    276\u001b[0m     \u001b[0;31m# If batch_size is not passed but steps is, calculate from the input data.\u001b[0m\u001b[0;34m\u001b[0m\u001b[0;34m\u001b[0m\u001b[0;34m\u001b[0m\u001b[0m\n",
            "\u001b[0;32m/usr/local/lib/python3.7/dist-packages/tensorflow/python/keras/engine/data_adapter.py\u001b[0m in \u001b[0;36m_check_data_cardinality\u001b[0;34m(data)\u001b[0m\n\u001b[1;32m   1527\u001b[0m           label, \", \".join(str(i.shape[0]) for i in nest.flatten(single_data)))\n\u001b[1;32m   1528\u001b[0m     \u001b[0mmsg\u001b[0m \u001b[0;34m+=\u001b[0m \u001b[0;34m\"Make sure all arrays contain the same number of samples.\"\u001b[0m\u001b[0;34m\u001b[0m\u001b[0;34m\u001b[0m\u001b[0m\n\u001b[0;32m-> 1529\u001b[0;31m     \u001b[0;32mraise\u001b[0m \u001b[0mValueError\u001b[0m\u001b[0;34m(\u001b[0m\u001b[0mmsg\u001b[0m\u001b[0;34m)\u001b[0m\u001b[0;34m\u001b[0m\u001b[0;34m\u001b[0m\u001b[0m\n\u001b[0m\u001b[1;32m   1530\u001b[0m \u001b[0;34m\u001b[0m\u001b[0m\n\u001b[1;32m   1531\u001b[0m \u001b[0;34m\u001b[0m\u001b[0m\n",
            "\u001b[0;31mValueError\u001b[0m: Data cardinality is ambiguous:\n  x sizes: 8406\n  y sizes: 8367\nMake sure all arrays contain the same number of samples."
          ]
        }
      ]
    },
    {
      "cell_type": "code",
      "metadata": {
        "id": "9v6PeOIVI5Fy"
      },
      "source": [
        ""
      ],
      "execution_count": null,
      "outputs": []
    },
    {
      "cell_type": "markdown",
      "metadata": {
        "id": "f3k29sBdI5NR"
      },
      "source": [
        ""
      ]
    }
  ]
}