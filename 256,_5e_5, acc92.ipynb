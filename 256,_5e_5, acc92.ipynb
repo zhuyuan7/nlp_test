{
  "nbformat": 4,
  "nbformat_minor": 0,
  "metadata": {
    "colab": {
      "name": "256, 5e-5.ipynb",
      "provenance": [],
      "mount_file_id": "1Q_cX7mcL_mweOs8Bx8J-PrpJBKtUh3vz",
      "authorship_tag": "ABX9TyMWHHxS29fb/y8x3LNTcyk3",
      "include_colab_link": true
    },
    "kernelspec": {
      "name": "python3",
      "display_name": "Python 3"
    },
    "language_info": {
      "name": "python"
    },
    "accelerator": "GPU"
  },
  "cells": [
    {
      "cell_type": "markdown",
      "metadata": {
        "id": "view-in-github",
        "colab_type": "text"
      },
      "source": [
        "<a href=\"https://colab.research.google.com/github/zhuyuan7/nlp_test/blob/main/256%2C_5e_5%2C%20acc92.ipynb\" target=\"_parent\"><img src=\"https://colab.research.google.com/assets/colab-badge.svg\" alt=\"Open In Colab\"/></a>"
      ]
    },
    {
      "cell_type": "code",
      "metadata": {
        "colab": {
          "base_uri": "https://localhost:8080/"
        },
        "id": "bHcuhK9BNQXX",
        "outputId": "4c0e6925-72e3-4168-c3a6-66402004f7b0"
      },
      "source": [
        "pip install transformers"
      ],
      "execution_count": 2,
      "outputs": [
        {
          "output_type": "stream",
          "text": [
            "Requirement already satisfied: transformers in /usr/local/lib/python3.7/dist-packages (4.6.0)\n",
            "Requirement already satisfied: tokenizers<0.11,>=0.10.1 in /usr/local/lib/python3.7/dist-packages (from transformers) (0.10.2)\n",
            "Requirement already satisfied: tqdm>=4.27 in /usr/local/lib/python3.7/dist-packages (from transformers) (4.41.1)\n",
            "Requirement already satisfied: filelock in /usr/local/lib/python3.7/dist-packages (from transformers) (3.0.12)\n",
            "Requirement already satisfied: importlib-metadata; python_version < \"3.8\" in /usr/local/lib/python3.7/dist-packages (from transformers) (4.0.1)\n",
            "Requirement already satisfied: huggingface-hub==0.0.8 in /usr/local/lib/python3.7/dist-packages (from transformers) (0.0.8)\n",
            "Requirement already satisfied: packaging in /usr/local/lib/python3.7/dist-packages (from transformers) (20.9)\n",
            "Requirement already satisfied: regex!=2019.12.17 in /usr/local/lib/python3.7/dist-packages (from transformers) (2019.12.20)\n",
            "Requirement already satisfied: requests in /usr/local/lib/python3.7/dist-packages (from transformers) (2.23.0)\n",
            "Requirement already satisfied: numpy>=1.17 in /usr/local/lib/python3.7/dist-packages (from transformers) (1.19.5)\n",
            "Requirement already satisfied: sacremoses in /usr/local/lib/python3.7/dist-packages (from transformers) (0.0.45)\n",
            "Requirement already satisfied: zipp>=0.5 in /usr/local/lib/python3.7/dist-packages (from importlib-metadata; python_version < \"3.8\"->transformers) (3.4.1)\n",
            "Requirement already satisfied: typing-extensions>=3.6.4; python_version < \"3.8\" in /usr/local/lib/python3.7/dist-packages (from importlib-metadata; python_version < \"3.8\"->transformers) (3.7.4.3)\n",
            "Requirement already satisfied: pyparsing>=2.0.2 in /usr/local/lib/python3.7/dist-packages (from packaging->transformers) (2.4.7)\n",
            "Requirement already satisfied: urllib3!=1.25.0,!=1.25.1,<1.26,>=1.21.1 in /usr/local/lib/python3.7/dist-packages (from requests->transformers) (1.24.3)\n",
            "Requirement already satisfied: idna<3,>=2.5 in /usr/local/lib/python3.7/dist-packages (from requests->transformers) (2.10)\n",
            "Requirement already satisfied: chardet<4,>=3.0.2 in /usr/local/lib/python3.7/dist-packages (from requests->transformers) (3.0.4)\n",
            "Requirement already satisfied: certifi>=2017.4.17 in /usr/local/lib/python3.7/dist-packages (from requests->transformers) (2020.12.5)\n",
            "Requirement already satisfied: joblib in /usr/local/lib/python3.7/dist-packages (from sacremoses->transformers) (1.0.1)\n",
            "Requirement already satisfied: six in /usr/local/lib/python3.7/dist-packages (from sacremoses->transformers) (1.15.0)\n",
            "Requirement already satisfied: click in /usr/local/lib/python3.7/dist-packages (from sacremoses->transformers) (7.1.2)\n"
          ],
          "name": "stdout"
        }
      ]
    },
    {
      "cell_type": "code",
      "metadata": {
        "id": "6P93JxUwJI2F"
      },
      "source": [
        "import argparse\n",
        "import os\n",
        "import torch\n",
        "import torch.nn as nn\n",
        "import random\n",
        "import numpy as np\n",
        "from tqdm import tqdm\n",
        "from torch.utils.data import TensorDataset, DataLoader\n",
        "from transformers import BertTokenizer, BertForSequenceClassification, AdamW, get_linear_schedule_with_warmup\n",
        "device = torch.device('cuda' if torch.cuda.is_available() else 'cpu')\n",
        "\n"
      ],
      "execution_count": 3,
      "outputs": []
    },
    {
      "cell_type": "code",
      "metadata": {
        "colab": {
          "base_uri": "https://localhost:8080/",
          "height": 86
        },
        "id": "J9JNi9XcNXII",
        "outputId": "ea65b5d7-ba55-414e-c5ac-e70260e29e12"
      },
      "source": [
        "\"\"\"\n",
        "parser = argparse.ArgumentParser()\n",
        "parser.add_argument('-seed', default=0, type=int)\n",
        "parser.add_argument('-max_seq_length', default=512, type=int)\n",
        "parser.add_argument('-batch_size', default=24, type=int)\n",
        "parser.add_argument('-num_epochs', default=4, type=int)\n",
        "parser.add_argument('-learning_rate', default=2e-5, type=float)\n",
        "parser.add_argument('-max_grad_norm', default=1.0, type=float)\n",
        "parser.add_argument('-warm_up_proportion', default=0.1, type=float)\n",
        "parser.add_argument('-gradient_accumulation_step', default=1, type=int)\n",
        "parser.add_argument('-bert_path', default='bert-base-uncased')\n",
        "parser.add_argument('-trunc_mode', default=128, type=str)\n",
        "args = parser.parse_args()\n",
        "\"\"\""
      ],
      "execution_count": null,
      "outputs": [
        {
          "output_type": "execute_result",
          "data": {
            "application/vnd.google.colaboratory.intrinsic+json": {
              "type": "string"
            },
            "text/plain": [
              "\"\\nparser = argparse.ArgumentParser()\\nparser.add_argument('-seed', default=0, type=int)\\nparser.add_argument('-max_seq_length', default=512, type=int)\\nparser.add_argument('-batch_size', default=24, type=int)\\nparser.add_argument('-num_epochs', default=4, type=int)\\nparser.add_argument('-learning_rate', default=2e-5, type=float)\\nparser.add_argument('-max_grad_norm', default=1.0, type=float)\\nparser.add_argument('-warm_up_proportion', default=0.1, type=float)\\nparser.add_argument('-gradient_accumulation_step', default=1, type=int)\\nparser.add_argument('-bert_path', default='bert-base-uncased')\\nparser.add_argument('-trunc_mode', default=128, type=str)\\nargs = parser.parse_args()\\n\""
            ]
          },
          "metadata": {
            "tags": []
          },
          "execution_count": 3
        }
      ]
    },
    {
      "cell_type": "code",
      "metadata": {
        "id": "HdWLy3esN3IQ"
      },
      "source": [
        "import easydict\n",
        " \n",
        "args = easydict.EasyDict({\n",
        "        \"seed\": 0,\n",
        "        \"max_seq_length\": 256,\n",
        "        \"batch_size\": 32,\n",
        "        \"num_epochs\": 4,\n",
        "        \"learning_rate\":5e-5,\n",
        "        \"max_grad_norm\": 1.0,\n",
        "        \"warm_up_proportion\": 0.1,\n",
        "        \"gradient_accumulation_step\": 1,\n",
        "        \"bert_path\": 'bert-base-uncased',\n",
        "        \"trunc_mode\": 128\n",
        "         \n",
        "})\n"
      ],
      "execution_count": 10,
      "outputs": []
    },
    {
      "cell_type": "code",
      "metadata": {
        "colab": {
          "base_uri": "https://localhost:8080/"
        },
        "id": "YOg-6P4wPOWh",
        "outputId": "202f141e-f0f2-4d1a-dc0f-710376a3a170"
      },
      "source": [
        "random.seed(args.seed)\n",
        "np.random.seed(args.seed)\n",
        "torch.manual_seed(args.seed)"
      ],
      "execution_count": 11,
      "outputs": [
        {
          "output_type": "execute_result",
          "data": {
            "text/plain": [
              "<torch._C.Generator at 0x7fad51803030>"
            ]
          },
          "metadata": {
            "tags": []
          },
          "execution_count": 11
        }
      ]
    },
    {
      "cell_type": "code",
      "metadata": {
        "colab": {
          "base_uri": "https://localhost:8080/"
        },
        "id": "rD0A69IlPRqr",
        "outputId": "4567cb80-d1a1-46df-fab9-09bf2707111f"
      },
      "source": [
        "tokenizer = BertTokenizer.from_pretrained(args.bert_path)\n",
        "model = BertForSequenceClassification.from_pretrained(args.bert_path, num_labels=2)\n",
        "model = torch.nn.DataParallel(model)\n",
        "model.to(device);\n"
      ],
      "execution_count": 12,
      "outputs": [
        {
          "output_type": "stream",
          "text": [
            "Some weights of the model checkpoint at bert-base-uncased were not used when initializing BertForSequenceClassification: ['cls.predictions.transform.dense.bias', 'cls.seq_relationship.bias', 'cls.predictions.transform.dense.weight', 'cls.predictions.transform.LayerNorm.weight', 'cls.predictions.bias', 'cls.predictions.decoder.weight', 'cls.predictions.transform.LayerNorm.bias', 'cls.seq_relationship.weight']\n",
            "- This IS expected if you are initializing BertForSequenceClassification from the checkpoint of a model trained on another task or with another architecture (e.g. initializing a BertForSequenceClassification model from a BertForPreTraining model).\n",
            "- This IS NOT expected if you are initializing BertForSequenceClassification from the checkpoint of a model that you expect to be exactly identical (initializing a BertForSequenceClassification model from a BertForSequenceClassification model).\n",
            "Some weights of BertForSequenceClassification were not initialized from the model checkpoint at bert-base-uncased and are newly initialized: ['classifier.weight', 'classifier.bias']\n",
            "You should probably TRAIN this model on a down-stream task to be able to use it for predictions and inference.\n"
          ],
          "name": "stderr"
        }
      ]
    },
    {
      "cell_type": "code",
      "metadata": {
        "id": "cd_7U9g1PjMs"
      },
      "source": [
        "def load_data(path):\n",
        "    input_ids, attention_mask, token_type_ids = [], [], []\n",
        "    sentiments = []\n",
        "    input_file = open(path, encoding=\"utf8\")\n",
        "    line = input_file.readline()\n",
        "    while line:\n",
        "        label, text = line.split(\"\\t\")\n",
        "        text = tokenizer.tokenize(text)\n",
        "        if len(text) > args.max_seq_length - 2:\n",
        "            text = text[:args.max_seq_length - 2]\n",
        "        text = [\"[CLS]\"] + text + [\"[SEP]\"]\n",
        "        attention_mask.append([1] * len(text) + [0] * (args.max_seq_length - len(text)))\n",
        "        token_type_ids.append([0] * args.max_seq_length)\n",
        "        input_ids.append(tokenizer.convert_tokens_to_ids(text) + [0] * (args.max_seq_length - len(text)))\n",
        "        sentiments.append(int(label))\n",
        "        line = input_file.readline()\n",
        "    input_file.close()\n",
        "    return np.array(input_ids), np.array(attention_mask), np.array(token_type_ids), np.array(sentiments)\n",
        "\n",
        "\n",
        "\n",
        "train_path = os.path.join(\"/content/drive/MyDrive/imbd_csv\", 'imdb_train.csv')\n",
        "test_path = os.path.join(\"/content/drive/MyDrive/imbd_csv\", 'imdb_test.csv')\n",
        "train_input_ids, train_attention_mask, train_token_type_ids, y_train = load_data(train_path)\n",
        "test_input_ids, test_attention_mask, test_token_type_ids, y_test = load_data(test_path)"
      ],
      "execution_count": 13,
      "outputs": []
    },
    {
      "cell_type": "code",
      "metadata": {
        "id": "C6QhPo4ITOxd"
      },
      "source": [
        "train_input_ids = torch.tensor(train_input_ids, dtype=torch.long)\n",
        "train_attention_mask = torch.tensor(train_attention_mask, dtype=torch.float)\n",
        "train_token_type_ids = torch.tensor(train_token_type_ids, dtype=torch.long)\n",
        "\n",
        "y_train = torch.tensor(y_train, dtype=torch.long)\n",
        "test_input_ids = torch.tensor(test_input_ids, dtype=torch.long)\n",
        "test_attention_mask = torch.tensor(test_attention_mask, dtype=torch.float)\n",
        "test_token_type_ids = torch.tensor(test_token_type_ids, dtype=torch.long)\n",
        "\n",
        "y_test = torch.tensor(y_test, dtype=torch.long)\n",
        "train_data = TensorDataset(train_input_ids, train_attention_mask, train_token_type_ids, y_train)\n",
        "train_loader = DataLoader(train_data, batch_size=args.batch_size, shuffle=True)\n",
        "test_data = TensorDataset(test_input_ids, test_attention_mask, test_token_type_ids, y_test)\n",
        "test_loader = DataLoader(test_data, batch_size=args.batch_size, shuffle=False)\n",
        "\n"
      ],
      "execution_count": 14,
      "outputs": []
    },
    {
      "cell_type": "code",
      "metadata": {
        "colab": {
          "base_uri": "https://localhost:8080/"
        },
        "id": "0UoWew1cTYpa",
        "outputId": "3e85d3da-79c2-4150-83f1-45e58e96ac8c"
      },
      "source": [
        "param_optimizer = list(model.named_parameters())\n",
        "no_decay = ['bias', 'LayerNorm.weight']\n",
        "optimizer_grouped_parameters = [\n",
        "    {'params': [p for n, p in param_optimizer if not any(nd in n for nd in no_decay)], 'weight_decay': 0.01},\n",
        "    {'params': [p for n, p in param_optimizer if any(nd in n for nd in no_decay)], 'weight_decay': 0.0}\n",
        "    ]\n",
        "optimizer = AdamW(optimizer_grouped_parameters, lr=args.learning_rate, correct_bias=False)\n",
        "scheduler = get_linear_schedule_with_warmup(\n",
        "                optimizer, num_warmup_steps=len(train_loader) * args.num_epochs * args.warm_up_proportion // args.gradient_accumulation_step,\n",
        "                num_training_steps=len(train_loader) * args.num_epochs // args.gradient_accumulation_step)\n",
        "total_step = len(train_loader)\n",
        "\n",
        "for epoch in range(args.num_epochs):\n",
        "    model.train()\n",
        "    model.zero_grad()\n",
        "    for i, (cur_input_ids, cur_attention_mask, cur_token_type_ids, cur_y) in enumerate(train_loader):\n",
        "        cur_input_ids = cur_input_ids.to(device)\n",
        "        cur_attention_mask = cur_attention_mask.to(device)\n",
        "        cur_token_type_ids = cur_token_type_ids.to(device)\n",
        "        cur_y = cur_y.to(device)\n",
        "        outputs = model(cur_input_ids, cur_attention_mask, cur_token_type_ids)\n",
        "        loss = nn.CrossEntropyLoss()(outputs[0], cur_y)\n",
        "        loss /= args.gradient_accumulation_step\n",
        "        loss.backward()\n",
        "        if (i + 1) % args.gradient_accumulation_step == 0:\n",
        "            nn.utils.clip_grad_norm_(model.parameters(), args.max_grad_norm)\n",
        "            optimizer.step()\n",
        "            scheduler.step()\n",
        "            model.zero_grad()\n",
        "        if (i + 1) % 100 == 0:\n",
        "            print ('Epoch [{}/{}], Step [{}/{}], Loss: {:.4f}'\n",
        "                   .format(epoch + 1, args.num_epochs, i + 1, total_step, loss.item()))\n",
        "            \n",
        "    model.eval()\n",
        "    with torch.no_grad():\n",
        "        correct = 0\n",
        "        total = 0\n",
        "        for cur_input_ids, cur_attention_mask, cur_token_type_ids, cur_y in tqdm(test_loader):\n",
        "            cur_input_ids = cur_input_ids.to(device)\n",
        "            cur_attention_mask = cur_attention_mask.to(device)\n",
        "            cur_token_type_ids = cur_token_type_ids.to(device)\n",
        "            cur_y = cur_y.to(device)\n",
        "            outputs = model(cur_input_ids, cur_attention_mask, cur_token_type_ids)\n",
        "            _, predicted = torch.max(outputs[0], 1)\n",
        "            total += cur_y.size(0)\n",
        "            correct += (predicted == cur_y).sum().item()\n",
        "        print('Accuracy: {} %'.format(100 * correct / total))"
      ],
      "execution_count": 16,
      "outputs": [
        {
          "output_type": "stream",
          "text": [
            "Epoch [1/4], Step [100/782], Loss: 0.3332\n",
            "Epoch [1/4], Step [200/782], Loss: 0.1704\n",
            "Epoch [1/4], Step [300/782], Loss: 0.4031\n",
            "Epoch [1/4], Step [400/782], Loss: 0.2014\n",
            "Epoch [1/4], Step [500/782], Loss: 0.3074\n",
            "Epoch [1/4], Step [600/782], Loss: 0.0997\n",
            "Epoch [1/4], Step [700/782], Loss: 0.2141\n"
          ],
          "name": "stdout"
        },
        {
          "output_type": "stream",
          "text": [
            "100%|██████████| 782/782 [06:30<00:00,  2.00it/s]\n"
          ],
          "name": "stderr"
        },
        {
          "output_type": "stream",
          "text": [
            "Accuracy: 91.176 %\n",
            "Epoch [2/4], Step [100/782], Loss: 0.0748\n",
            "Epoch [2/4], Step [200/782], Loss: 0.0753\n",
            "Epoch [2/4], Step [300/782], Loss: 0.1290\n",
            "Epoch [2/4], Step [400/782], Loss: 0.1559\n",
            "Epoch [2/4], Step [500/782], Loss: 0.2856\n",
            "Epoch [2/4], Step [600/782], Loss: 0.2454\n",
            "Epoch [2/4], Step [700/782], Loss: 0.1995\n"
          ],
          "name": "stdout"
        },
        {
          "output_type": "stream",
          "text": [
            "100%|██████████| 782/782 [06:30<00:00,  2.00it/s]\n"
          ],
          "name": "stderr"
        },
        {
          "output_type": "stream",
          "text": [
            "Accuracy: 92.188 %\n",
            "Epoch [3/4], Step [100/782], Loss: 0.0046\n",
            "Epoch [3/4], Step [200/782], Loss: 0.0019\n",
            "Epoch [3/4], Step [300/782], Loss: 0.1749\n",
            "Epoch [3/4], Step [400/782], Loss: 0.0467\n",
            "Epoch [3/4], Step [500/782], Loss: 0.0052\n",
            "Epoch [3/4], Step [600/782], Loss: 0.1354\n",
            "Epoch [3/4], Step [700/782], Loss: 0.0091\n"
          ],
          "name": "stdout"
        },
        {
          "output_type": "stream",
          "text": [
            "100%|██████████| 782/782 [06:27<00:00,  2.02it/s]\n"
          ],
          "name": "stderr"
        },
        {
          "output_type": "stream",
          "text": [
            "Accuracy: 92.404 %\n",
            "Epoch [4/4], Step [100/782], Loss: 0.0013\n",
            "Epoch [4/4], Step [200/782], Loss: 0.0010\n",
            "Epoch [4/4], Step [300/782], Loss: 0.0193\n",
            "Epoch [4/4], Step [400/782], Loss: 0.0010\n",
            "Epoch [4/4], Step [500/782], Loss: 0.0013\n",
            "Epoch [4/4], Step [600/782], Loss: 0.0012\n",
            "Epoch [4/4], Step [700/782], Loss: 0.0019\n"
          ],
          "name": "stdout"
        },
        {
          "output_type": "stream",
          "text": [
            "100%|██████████| 782/782 [06:29<00:00,  2.01it/s]"
          ],
          "name": "stderr"
        },
        {
          "output_type": "stream",
          "text": [
            "Accuracy: 92.412 %\n"
          ],
          "name": "stdout"
        },
        {
          "output_type": "stream",
          "text": [
            "\n"
          ],
          "name": "stderr"
        }
      ]
    },
    {
      "cell_type": "code",
      "metadata": {
        "id": "hrOaqr2NisW7"
      },
      "source": [
        ""
      ],
      "execution_count": null,
      "outputs": []
    }
  ]
}